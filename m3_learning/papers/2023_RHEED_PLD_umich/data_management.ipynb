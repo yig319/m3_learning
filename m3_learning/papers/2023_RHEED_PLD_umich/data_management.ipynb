{
 "cells": [
  {
   "cell_type": "code",
   "execution_count": 1,
   "id": "e6d29f46",
   "metadata": {},
   "outputs": [],
   "source": [
    "%load_ext autoreload\n",
    "%autoreload 2\n",
    "%matplotlib inline\n",
    "import glob, re\n",
    "\n",
    "import sys\n",
    "import numpy as np\n",
    "import os\n",
    "import matplotlib.pyplot as plt\n",
    "from matplotlib import gridspec\n",
    "from matplotlib import colors\n",
    "\n",
    "sys.path.append('../../src')\n",
    "from m3_learning.RHEED.Viz import show_images\n",
    "from m3_learning.RHEED.Dataset import datafed_upload, datafed_download"
   ]
  },
  {
   "cell_type": "code",
   "execution_count": null,
   "id": "a65419f8",
   "metadata": {},
   "outputs": [],
   "source": [
    "datafed_download('d/489542348', './Datasets/')"
   ]
  }
 ],
 "metadata": {
  "kernelspec": {
   "display_name": "m3",
   "language": "python",
   "name": "python3"
  },
  "language_info": {
   "codemirror_mode": {
    "name": "ipython",
    "version": 3
   },
   "file_extension": ".py",
   "mimetype": "text/x-python",
   "name": "python",
   "nbconvert_exporter": "python",
   "pygments_lexer": "ipython3",
   "version": "3.9.0"
  }
 },
 "nbformat": 4,
 "nbformat_minor": 5
}
