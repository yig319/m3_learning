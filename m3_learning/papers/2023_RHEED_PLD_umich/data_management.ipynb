{
 "cells": [
  {
   "cell_type": "code",
   "execution_count": 1,
   "id": "e6d29f46",
   "metadata": {},
   "outputs": [],
   "source": [
    "%load_ext autoreload\n",
    "%autoreload 2\n",
    "%matplotlib inline\n",
    "import glob, re\n",
    "\n",
    "import sys\n",
    "import numpy as np\n",
    "import os\n",
    "import matplotlib.pyplot as plt\n",
    "from matplotlib import gridspec\n",
    "from matplotlib import colors\n",
    "\n",
    "sys.path.append('../../src')\n",
    "from m3_learning.RHEED.Viz import show_images\n",
    "from m3_learning.RHEED.Dataset import datafed_upload, datafed_download"
   ]
  },
  {
   "cell_type": "code",
   "execution_count": 3,
   "id": "a65419f8",
   "metadata": {},
   "outputs": [
    {
     "name": "stdout",
     "output_type": "stream",
     "text": [
      "(task {\n",
      "  id: \"task/489756908\"\n",
      "  type: TT_DATA_GET\n",
      "  status: TS_SUCCEEDED\n",
      "  client: \"u/yig319\"\n",
      "  step: 2\n",
      "  steps: 3\n",
      "  msg: \"Finished\"\n",
      "  ct: 1694447598\n",
      "  ut: 1694452821\n",
      "  source: \"d/489542348\"\n",
      "  dest: \"7cdc5caf-4df9-11ee-a088-eb83daae1adf/c/Users/yig319/Dropbox (LU Student)/m3_learning/m3_learning/papers/2023_RHEED_PLD_umich/Datasets\"\n",
      "}\n",
      ", 'TaskDataReply')\n"
     ]
    }
   ],
   "source": [
    "datafed_download('d/489542348', './Datasets/', wait=True)"
   ]
  },
  {
   "cell_type": "code",
   "execution_count": 4,
   "id": "f10acc86",
   "metadata": {},
   "outputs": [
    {
     "name": "stdout",
     "output_type": "stream",
     "text": [
      "(task {\n",
      "  id: \"task/489784359\"\n",
      "  type: TT_DATA_GET\n",
      "  status: TS_SUCCEEDED\n",
      "  client: \"u/yig319\"\n",
      "  step: 2\n",
      "  steps: 3\n",
      "  msg: \"Finished\"\n",
      "  ct: 1694452827\n",
      "  ut: 1694456824\n",
      "  source: \"d/489551675\"\n",
      "  dest: \"7cdc5caf-4df9-11ee-a088-eb83daae1adf/c/Users/yig319/Dropbox (LU Student)/m3_learning/m3_learning/papers/2023_RHEED_PLD_umich/Datasets\"\n",
      "}\n",
      ", 'TaskDataReply')\n"
     ]
    }
   ],
   "source": [
    "datafed_download('d/489551675', './Datasets/', wait=True)"
   ]
  },
  {
   "cell_type": "code",
   "execution_count": 7,
   "id": "6a29ed39",
   "metadata": {},
   "outputs": [
    {
     "name": "stdout",
     "output_type": "stream",
     "text": [
      "(task {\n",
      "  id: \"task/489978856\"\n",
      "  type: TT_DATA_GET\n",
      "  status: TS_SUCCEEDED\n",
      "  client: \"u/yig319\"\n",
      "  step: 2\n",
      "  steps: 3\n",
      "  msg: \"Finished\"\n",
      "  ct: 1694535990\n",
      "  ut: 1694540092\n",
      "  source: \"d/489444572\"\n",
      "  dest: \"7cdc5caf-4df9-11ee-a088-eb83daae1adf/c/Users/yig319/Dropbox (LU Student)/m3_learning/m3_learning/papers/2023_RHEED_PLD_umich/Datasets\"\n",
      "}\n",
      ", 'TaskDataReply')\n"
     ]
    }
   ],
   "source": [
    "datafed_download('d/489444572', './Datasets/', wait=True)"
   ]
  },
  {
   "cell_type": "code",
   "execution_count": 6,
   "id": "63a35709",
   "metadata": {},
   "outputs": [
    {
     "name": "stdout",
     "output_type": "stream",
     "text": [
      "(task {\n",
      "  id: \"task/489923660\"\n",
      "  type: TT_DATA_GET\n",
      "  status: TS_FAILED\n",
      "  client: \"u/yig319\"\n",
      "  step: 1\n",
      "  steps: 3\n",
      "  msg: \"Globus endpoint API call returned invalid JSON.\"\n",
      "  ct: 1694482339\n",
      "  ut: 1694482339\n",
      "  source: \"d/489527884\"\n",
      "  dest: \"7cdc5caf-4df9-11ee-a088-eb83daae1adf/c/Users/yig319/Dropbox (LU Student)/m3_learning/m3_learning/papers/2023_RHEED_PLD_umich/Datasets\"\n",
      "}\n",
      ", 'TaskDataReply')\n"
     ]
    }
   ],
   "source": [
    "datafed_download('d/489527884', './Datasets/', wait=True)"
   ]
  },
  {
   "cell_type": "code",
   "execution_count": null,
   "id": "74d0c3c4",
   "metadata": {},
   "outputs": [],
   "source": [
    "datafed_download('d/489327138', './Datasets/', wait=True)\n",
    "\n",
    "datafed_download('d/489444572', './Datasets/', wait=True)\n",
    "\n",
    "datafed_download('d/489327212', './Datasets/', wait=True)\n",
    "\n",
    "datafed_download('d/489715754', './Datasets/', wait=True)\n",
    "\n",
    "datafed_download('d/489715754', './Datasets/', wait=True)"
   ]
  },
  {
   "cell_type": "code",
   "execution_count": null,
   "id": "efc91271",
   "metadata": {},
   "outputs": [],
   "source": []
  },
  {
   "cell_type": "code",
   "execution_count": null,
   "id": "9bb1e3aa",
   "metadata": {},
   "outputs": [],
   "source": []
  }
 ],
 "metadata": {
  "kernelspec": {
   "display_name": "m3",
   "language": "python",
   "name": "python3"
  },
  "language_info": {
   "codemirror_mode": {
    "name": "ipython",
    "version": 3
   },
   "file_extension": ".py",
   "mimetype": "text/x-python",
   "name": "python",
   "nbconvert_exporter": "python",
   "pygments_lexer": "ipython3",
   "version": "3.9.0"
  }
 },
 "nbformat": 4,
 "nbformat_minor": 5
}
